{
 "cells": [
  {
   "cell_type": "code",
   "execution_count": 12,
   "id": "a18f4f22",
   "metadata": {},
   "outputs": [
    {
     "name": "stdout",
     "output_type": "stream",
     "text": [
      "Estimated lambda_decay: -0.10663371003257005\n"
     ]
    },
    {
     "data": {
      "image/png": "[encoded data removed]",
      "text/plain": [
       "<Figure size 640x480 with 1 Axes>"
      ]
     },
     "metadata": {},
     "output_type": "display_data"
    },
    {
     "name": "stdout",
     "output_type": "stream",
     "text": [
      "                            OLS Regression Results                            \n",
      "==============================================================================\n",
      "Dep. Variable:      observed_slippage   R-squared:                       0.000\n",
      "Model:                            OLS   Adj. R-squared:                 -0.000\n",
      "Method:                 Least Squares   F-statistic:                    0.9444\n",
      "Date:                Mon, 05 Aug 2024   Prob (F-statistic):              0.471\n",
      "Time:                        17:37:43   Log-Likelihood:                -67297.\n",
      "No. Observations:               47416   AIC:                         1.346e+05\n",
      "Df Residuals:                   47408   BIC:                         1.347e+05\n",
      "Df Model:                           7                                         \n",
      "Covariance Type:            nonrobust                                         \n",
      "==========================================================================================\n",
      "                             coef    std err          t      P>|t|      [0.025      0.975]\n",
      "------------------------------------------------------------------------------------------\n",
      "const                      0.0038      0.005      0.825      0.409      -0.005       0.013\n",
      "size                   -9.165e-07   1.82e-06     -0.502      0.615   -4.49e-06    2.66e-06\n",
      "transient_impact_decay     0.0001      0.005      0.027      0.978      -0.009       0.009\n",
      "trade_intensity            0.0007      0.005      0.159      0.873      -0.008       0.010\n",
      "cumulative_volume         -0.0039      0.005     -0.843      0.399      -0.013       0.005\n",
      "market_resilience          0.0069      0.005      1.498      0.134      -0.002       0.016\n",
      "liquidity_shock            0.0013      0.005      0.288      0.773      -0.008       0.010\n",
      "size_squared            7.728e-14    8.1e-13      0.095      0.924   -1.51e-12    1.66e-12\n",
      "==============================================================================\n",
      "Omnibus:                        5.488   Durbin-Watson:                   2.000\n",
      "Prob(Omnibus):                  0.064   Jarque-Bera (JB):                5.492\n",
      "Skew:                          -0.026   Prob(JB):                       0.0642\n",
      "Kurtosis:                       2.997   Cond. No.                     2.64e+10\n",
      "==============================================================================\n",
      "\n",
      "Notes:\n",
      "[1] Standard Errors assume that the covariance matrix of the errors is correctly specified.\n",
      "[2] The condition number is large, 2.64e+10. This might indicate that there are\n",
      "strong multicollinearity or other numerical problems.\n",
      "gamma: -9.164501894930389e-07, delta: 7.728378779538199e-14, beta_D: 0.0001252112121503449, beta_TI: 0.0007305406821343761, beta_CV: -0.0038678940649038303, beta_MR: 0.006902144233158382, beta_LS: 0.0013230354978705254\n",
      "R-squared: -0.00022128758909789603\n"
     ]
    }
   ],
   "source": [
    "import numpy as np\n",
    "import pandas as pd\n",
    "import matplotlib.pyplot as plt\n",
    "from scipy.optimize import curve_fit\n",
    "import statsmodels.api as sm\n",
    "\n",
    "# Load the dataset\n",
    "df = pd.read_csv(\"xnas-itch-20230703.tbbo.csv\")\n",
    "\n",
    "# Ensure 'ts_recv' is in datetime format\n",
    "df['ts_recv'] = pd.to_datetime(df['ts_recv'], errors='coerce')\n",
    "\n",
    "# Convert timestamps to seconds since epoch\n",
    "df['ts_recv_seconds'] = df['ts_recv'].astype('int64') // 10**9\n",
    "\n",
    "# Calculate Time Since Trade\n",
    "df['time_since_trade'] = df['ts_recv_seconds'].diff().fillna(df['ts_recv_seconds'].diff().mean(0))\n",
    "\n",
    "# Calculate Transient Impact\n",
    "df['mid_price'] = (df['bid_px_00'] + df['ask_px_00']) / 2\n",
    "df['transient_impact'] = abs(df['mid_price'].shift(1) - df['mid_price'])\n",
    "df['transient_impact'] = df['transient_impact'].fillna(df['transient_impact'].median())\n",
    "\n",
    "def log_linear_model(t, lambda_decay):\n",
    "    return -lambda_decay * t\n",
    "\n",
    "# Prepare data for fitting\n",
    "time_intervals = df['time_since_trade'].values\n",
    "observed_impacts = np.abs(df['transient_impact'].values)\n",
    "\n",
    "# Apply log transformation to observed impacts\n",
    "log_impacts = np.log(observed_impacts + 1e-5)\n",
    "\n",
    "# Fit the linear model to the log-transformed data\n",
    "params, _ = curve_fit(log_linear_model, time_intervals, log_impacts)\n",
    "lambda_decay_estimated = params[0]\n",
    "\n",
    "print(f\"Estimated lambda_decay: {lambda_decay_estimated}\")\n",
    "\n",
    "# Compute the fitted log-transformed impacts\n",
    "fitted_log_impacts = log_linear_model(time_intervals, lambda_decay_estimated)\n",
    "\n",
    "# Transform the fitted log impacts back to the original scale\n",
    "fitted_impacts = np.exp(fitted_log_impacts)\n",
    "\n",
    "# Ensure that both time_intervals and fitted_impacts have the same length\n",
    "min_length = min(len(time_intervals), len(fitted_impacts))\n",
    "time_intervals = time_intervals[:min_length]\n",
    "observed_impacts = observed_impacts[:min_length]\n",
    "fitted_impacts = fitted_impacts[:min_length]\n",
    "# Calculate a reasonable cap using the 99th percentile\n",
    "\n",
    "cap_value = np.percentile(fitted_impacts, 99)\n",
    "\n",
    "# Replace values exceeding the cap with the cap value\n",
    "fitted_impacts_capped = np.where(fitted_impacts > cap_value, cap_value, fitted_impacts)\n",
    "\n",
    "# Replot the data with the capped values\n",
    "plt.scatter(time_intervals, observed_impacts, color='blue', label='Observed Impact')\n",
    "plt.plot(time_intervals, fitted_impacts_capped, color='red', label='Fitted Decay')\n",
    "plt.xlabel('Time Since Trade')\n",
    "plt.ylabel('Transient Impact')\n",
    "plt.legend()\n",
    "plt.show()\n",
    "\n",
    "# Prepare the data for regression (ensure these columns exist in the dataframe)\n",
    "required_columns = ['size', 'transient_impact_decay', 'trade_intensity', 'cumulative_volume', 'market_resilience', 'liquidity_shock']\n",
    "for col in required_columns:\n",
    "    if col not in df.columns:\n",
    "        df[col] = np.random.randn(len(df))  # Add placeholder data if columns are missing\n",
    "\n",
    "X = df[required_columns].copy()\n",
    "X['size_squared'] = df['size'] ** 2  # Add the nonlinear term\n",
    "\n",
    "# Define the dependent variable (ensure 'observed_slippage' exists in the dataframe)\n",
    "if 'observed_slippage' not in df.columns:\n",
    "    df['observed_slippage'] = np.random.randn(len(df))  # Add placeholder data if column is missing\n",
    "y = df['observed_slippage']\n",
    "\n",
    "# Add a constant term to the independent variables matrix (for the intercept)\n",
    "X = sm.add_constant(X)\n",
    "\n",
    "# Split the data into training and testing sets\n",
    "from sklearn.model_selection import train_test_split\n",
    "X_train, X_test, y_train, y_test = train_test_split(X, y, test_size=0.2, random_state=42)\n",
    "\n",
    "# Fit the OLS regression model\n",
    "model = sm.OLS(y_train, X_train).fit()\n",
    "\n",
    "# Print the model summary\n",
    "print(model.summary())\n",
    "\n",
    "# Extract the parameters\n",
    "params = model.params\n",
    "gamma = params['size']\n",
    "delta = params['size_squared']\n",
    "beta_D = params['transient_impact_decay']\n",
    "beta_TI = params['trade_intensity']\n",
    "beta_CV = params['cumulative_volume']\n",
    "beta_MR = params['market_resilience']\n",
    "beta_LS = params['liquidity_shock']\n",
    "\n",
    "print(f\"gamma: {gamma}, delta: {delta}, beta_D: {beta_D}, beta_TI: {beta_TI}, beta_CV: {beta_CV}, beta_MR: {beta_MR}, beta_LS: {beta_LS}\")\n",
    "\n",
    "# Evaluate the model\n",
    "from sklearn.metrics import r2_score\n",
    "predictions = model.predict(X_test)\n",
    "r2 = r2_score(y_test, predictions)\n",
    "print(f\"R-squared: {r2}\")\n"
   ]
  },
  {
   "cell_type": "code",
   "execution_count": 13,
   "id": "bd5e8464",
   "metadata": {},
   "outputs": [],
   "source": [
    "from sklearn.metrics import r2_score"
   ]
  },
  {
   "cell_type": "code",
   "execution_count": 14,
   "id": "f01497fa",
   "metadata": {},
   "outputs": [],
   "source": [
    "asc=r2_score(fitted_impacts,observed_impacts)"
   ]
  },
  {
   "cell_type": "code",
   "execution_count": 15,
   "id": "bff943c3",
   "metadata": {},
   "outputs": [
    {
     "name": "stdout",
     "output_type": "stream",
     "text": [
      "-1.6890307640293756e-05\n"
     ]
    }
   ],
   "source": [
    "print(asc)"
   ]
  },
  {
   "cell_type": "code",
   "execution_count": null,
   "id": "4ffdad1a",
   "metadata": {},
   "outputs": [],
   "source": []
  }
 ],
 "metadata": {
  "kernelspec": {
   "display_name": "Python 3 (ipykernel)",
   "language": "python",
   "name": "python3"
  },
  "language_info": {
   "codemirror_mode": {
    "name": "ipython",
    "version": 3
   },
   "file_extension": ".py",
   "mimetype": "text/x-python",
   "name": "python",
   "nbconvert_exporter": "python",
   "pygments_lexer": "ipython3",
   "version": "3.10.9"
  }
 },
 "nbformat": 4,
 "nbformat_minor": 5
}
